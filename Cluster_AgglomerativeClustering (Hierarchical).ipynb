{
 "cells": [
  {
   "cell_type": "markdown",
   "id": "ad22e79f-a5cf-43a3-b2f9-cf535661bbca",
   "metadata": {},
   "source": [
    "# Import Libraries"
   ]
  },
  {
   "cell_type": "code",
   "execution_count": 1,
   "id": "0239061e-5ec2-4e89-9076-a963f4aa1945",
   "metadata": {},
   "outputs": [],
   "source": [
    "import numpy as np\n",
    "import matplotlib.pyplot as plt\n",
    "import pandas as pd\n",
    "import os"
   ]
  },
  {
   "cell_type": "code",
   "execution_count": 2,
   "id": "bb682e63-1530-409c-82ea-df99de4597a0",
   "metadata": {},
   "outputs": [],
   "source": [
    "import scipy.cluster.hierarchy as sch\n",
    "from sklearn.cluster import AgglomerativeClustering"
   ]
  },
  {
   "cell_type": "markdown",
   "id": "4ba6c8c6-a19e-416b-98c8-82169a75d6e1",
   "metadata": {
    "jp-MarkdownHeadingCollapsed": true
   },
   "source": [
    "# Load & Preview Dataset"
   ]
  },
  {
   "cell_type": "code",
   "execution_count": 3,
   "id": "64e29f29-8348-4266-b98e-8107066d419e",
   "metadata": {},
   "outputs": [],
   "source": [
    "dataset = pd.read_csv('Mall_Customers.csv')"
   ]
  },
  {
   "cell_type": "code",
   "execution_count": 4,
   "id": "be54b92e-e4a2-41f9-9410-981db0830180",
   "metadata": {},
   "outputs": [
    {
     "data": {
      "text/plain": [
       "(200, 5)"
      ]
     },
     "execution_count": 4,
     "metadata": {},
     "output_type": "execute_result"
    }
   ],
   "source": [
    "dataset.shape"
   ]
  },
  {
   "cell_type": "code",
   "execution_count": 5,
   "id": "a519c762-a953-4c50-bdc4-f1092859b1d4",
   "metadata": {},
   "outputs": [
    {
     "data": {
      "text/html": [
       "<div>\n",
       "<style scoped>\n",
       "    .dataframe tbody tr th:only-of-type {\n",
       "        vertical-align: middle;\n",
       "    }\n",
       "\n",
       "    .dataframe tbody tr th {\n",
       "        vertical-align: top;\n",
       "    }\n",
       "\n",
       "    .dataframe thead th {\n",
       "        text-align: right;\n",
       "    }\n",
       "</style>\n",
       "<table border=\"1\" class=\"dataframe\">\n",
       "  <thead>\n",
       "    <tr style=\"text-align: right;\">\n",
       "      <th></th>\n",
       "      <th>CustomerID</th>\n",
       "      <th>Genre</th>\n",
       "      <th>Age</th>\n",
       "      <th>Annual Income (k$)</th>\n",
       "      <th>Spending Score (1-100)</th>\n",
       "    </tr>\n",
       "  </thead>\n",
       "  <tbody>\n",
       "    <tr>\n",
       "      <th>0</th>\n",
       "      <td>1</td>\n",
       "      <td>Male</td>\n",
       "      <td>19</td>\n",
       "      <td>15</td>\n",
       "      <td>39</td>\n",
       "    </tr>\n",
       "    <tr>\n",
       "      <th>1</th>\n",
       "      <td>2</td>\n",
       "      <td>Male</td>\n",
       "      <td>21</td>\n",
       "      <td>15</td>\n",
       "      <td>81</td>\n",
       "    </tr>\n",
       "    <tr>\n",
       "      <th>2</th>\n",
       "      <td>3</td>\n",
       "      <td>Female</td>\n",
       "      <td>20</td>\n",
       "      <td>16</td>\n",
       "      <td>6</td>\n",
       "    </tr>\n",
       "    <tr>\n",
       "      <th>3</th>\n",
       "      <td>4</td>\n",
       "      <td>Female</td>\n",
       "      <td>23</td>\n",
       "      <td>16</td>\n",
       "      <td>77</td>\n",
       "    </tr>\n",
       "    <tr>\n",
       "      <th>4</th>\n",
       "      <td>5</td>\n",
       "      <td>Female</td>\n",
       "      <td>31</td>\n",
       "      <td>17</td>\n",
       "      <td>40</td>\n",
       "    </tr>\n",
       "  </tbody>\n",
       "</table>\n",
       "</div>"
      ],
      "text/plain": [
       "   CustomerID   Genre  Age  Annual Income (k$)  Spending Score (1-100)\n",
       "0           1    Male   19                  15                      39\n",
       "1           2    Male   21                  15                      81\n",
       "2           3  Female   20                  16                       6\n",
       "3           4  Female   23                  16                      77\n",
       "4           5  Female   31                  17                      40"
      ]
     },
     "execution_count": 5,
     "metadata": {},
     "output_type": "execute_result"
    }
   ],
   "source": [
    "dataset.head()"
   ]
  },
  {
   "cell_type": "markdown",
   "id": "11faa1b0-6657-44cf-9c4e-3975b54e1087",
   "metadata": {
    "jp-MarkdownHeadingCollapsed": true
   },
   "source": [
    "# Split Dataset as Training Dataset"
   ]
  },
  {
   "cell_type": "markdown",
   "id": "d11536c6-67e0-4e64-8ba4-0298f32b37de",
   "metadata": {},
   "source": [
    "* `Annual Income (k$)` & `Spending Score (1-100)` are splitted as training dataset"
   ]
  },
  {
   "cell_type": "code",
   "execution_count": 6,
   "id": "76e61aee-71a7-4bd2-bb6c-bb9c9db936dc",
   "metadata": {},
   "outputs": [],
   "source": [
    "X = dataset.iloc[:, [3, 4]].values"
   ]
  },
  {
   "cell_type": "code",
   "execution_count": 7,
   "id": "a476d17f-a8d5-4be1-b0b7-6087550d0749",
   "metadata": {},
   "outputs": [
    {
     "data": {
      "text/plain": [
       "(200, 2)"
      ]
     },
     "execution_count": 7,
     "metadata": {},
     "output_type": "execute_result"
    }
   ],
   "source": [
    "X.shape"
   ]
  },
  {
   "cell_type": "code",
   "execution_count": 10,
   "id": "e89ee640-94af-4969-85fa-7d3c90a6128a",
   "metadata": {},
   "outputs": [
    {
     "name": "stdout",
     "output_type": "stream",
     "text": [
      "[[15 39]\n",
      " [15 81]\n",
      " [16  6]\n",
      " [16 77]\n",
      " [17 40]]\n"
     ]
    }
   ],
   "source": [
    "print( X[0:5] )"
   ]
  },
  {
   "cell_type": "markdown",
   "id": "77e567d7-edb6-448d-a13a-0c214be83e78",
   "metadata": {
    "jp-MarkdownHeadingCollapsed": true
   },
   "source": [
    "# Use dendrogram to find the optimal number of clusters"
   ]
  },
  {
   "cell_type": "code",
   "execution_count": 73,
   "id": "6a229860-92bb-4459-b687-9ff1a6a55668",
   "metadata": {},
   "outputs": [
    {
     "name": "stdout",
     "output_type": "stream",
     "text": [
      "dict_keys(['icoord', 'dcoord', 'ivl', 'leaves', 'color_list', 'leaves_color_list'])\n"
     ]
    },
    {
     "data": {
      "image/png": "[encoded data removed]",
      "text/plain": [
       "<Figure size 640x480 with 1 Axes>"
      ]
     },
     "metadata": {},
     "output_type": "display_data"
    }
   ],
   "source": [
    "dendrogram = sch.dendrogram(sch.linkage(X, method='ward'))\n",
    "print( dendrogram.keys() );"
   ]
  },
  {
   "cell_type": "code",
   "execution_count": 25,
   "id": "1a772672-e9c2-4062-9ff1-27dc75248c80",
   "metadata": {},
   "outputs": [
    {
     "name": "stdout",
     "output_type": "stream",
     "text": [
      "icoord: 199\n",
      "dcoord: 199\n",
      "color_list: 199\n",
      "ivl: 200\n",
      "leaves: 200\n",
      "leaves_color_list: 200\n"
     ]
    }
   ],
   "source": [
    "print( 'icoord:', len(dendrogram['icoord']) )\n",
    "print( 'dcoord:', len(dendrogram['dcoord']) )\n",
    "print( 'color_list:', len(dendrogram['color_list']) )\n",
    "print( 'ivl:', len(dendrogram['ivl']) )\n",
    "print( 'leaves:', len(dendrogram['leaves']) )\n",
    "print( 'leaves_color_list:', len(dendrogram['leaves_color_list']) )"
   ]
  },
  {
   "cell_type": "code",
   "execution_count": 26,
   "id": "fcdfda70-434d-43a1-ac7f-63e5797eef42",
   "metadata": {},
   "outputs": [
    {
     "data": {
      "text/plain": [
       "[[15.0, 15.0, 25.0, 25.0],\n",
       " [35.0, 35.0, 45.0, 45.0],\n",
       " [20.0, 20.0, 40.0, 40.0],\n",
       " [5.0, 5.0, 30.0, 30.0],\n",
       " [55.0, 55.0, 65.0, 65.0],\n",
       " [85.0, 85.0, 95.0, 95.0],\n",
       " [115.0, 115.0, 125.0, 125.0],\n",
       " [105.0, 105.0, 120.0, 120.0],\n",
       " [90.0, 90.0, 112.5, 112.5],\n",
       " [75.0, 75.0, 101.25, 101.25]]"
      ]
     },
     "execution_count": 26,
     "metadata": {},
     "output_type": "execute_result"
    }
   ],
   "source": [
    "dendrogram['icoord'][0:10]"
   ]
  },
  {
   "cell_type": "code",
   "execution_count": 29,
   "id": "409a34ab-02f7-46e5-b196-cd741fde7dbc",
   "metadata": {},
   "outputs": [
    {
     "data": {
      "text/plain": [
       "[[0.0, 1.4142135623730951, 1.4142135623730951, 0.0],\n",
       " [0.0, 2.0, 2.0, 0.0],\n",
       " [1.4142135623730951, 5.385164807134504, 5.385164807134504, 2.0],\n",
       " [0.0, 6.276941930590087, 6.276941930590087, 5.385164807134504],\n",
       " [0.0, 3.605551275463989, 3.605551275463989, 0.0],\n",
       " [0.0, 6.324555320336759, 6.324555320336759, 0.0],\n",
       " [0.0, 1.0, 1.0, 0.0],\n",
       " [0.0, 6.350852961085883, 6.350852961085883, 1.0],\n",
       " [6.324555320336759,\n",
       "  11.604596790352806,\n",
       "  11.604596790352806,\n",
       "  6.350852961085883],\n",
       " [0.0, 14.479871085982314, 14.479871085982314, 11.604596790352806]]"
      ]
     },
     "execution_count": 29,
     "metadata": {},
     "output_type": "execute_result"
    }
   ],
   "source": [
    "dendrogram['dcoord'][0:10]"
   ]
  },
  {
   "cell_type": "code",
   "execution_count": 30,
   "id": "23205fec-689b-4788-9121-02bac696a189",
   "metadata": {},
   "outputs": [
    {
     "data": {
      "text/plain": [
       "['C1', 'C1', 'C1', 'C1', 'C1', 'C1', 'C1', 'C1', 'C1', 'C1']"
      ]
     },
     "execution_count": 30,
     "metadata": {},
     "output_type": "execute_result"
    }
   ],
   "source": [
    "dendrogram['color_list'][0:10]"
   ]
  },
  {
   "cell_type": "code",
   "execution_count": 36,
   "id": "f62ea1db-a79c-4da6-b3e5-8c7a4c1172db",
   "metadata": {},
   "outputs": [
    {
     "data": {
      "text/plain": [
       "{'C0', 'C1', 'C2', 'C3'}"
      ]
     },
     "execution_count": 36,
     "metadata": {},
     "output_type": "execute_result"
    }
   ],
   "source": [
    "set(dendrogram['color_list'])"
   ]
  },
  {
   "cell_type": "code",
   "execution_count": 31,
   "id": "2f97c6a5-6b69-4f62-b29e-32aa349981d8",
   "metadata": {},
   "outputs": [
    {
     "data": {
      "text/plain": [
       "['1', '3', '5', '13', '15', '37', '39', '27', '9', '17']"
      ]
     },
     "execution_count": 31,
     "metadata": {},
     "output_type": "execute_result"
    }
   ],
   "source": [
    "dendrogram['ivl'][0:10]"
   ]
  },
  {
   "cell_type": "code",
   "execution_count": 32,
   "id": "262e4171-1ccc-4d84-b26a-f705052f1b14",
   "metadata": {},
   "outputs": [
    {
     "data": {
      "text/plain": [
       "[1, 3, 5, 13, 15, 37, 39, 27, 9, 17]"
      ]
     },
     "execution_count": 32,
     "metadata": {},
     "output_type": "execute_result"
    }
   ],
   "source": [
    "dendrogram['leaves'][0:10]"
   ]
  },
  {
   "cell_type": "code",
   "execution_count": 33,
   "id": "e594a517-772c-405b-83c3-da9b9d2ec0e6",
   "metadata": {},
   "outputs": [
    {
     "data": {
      "text/plain": [
       "['C1', 'C1', 'C1', 'C1', 'C1', 'C1', 'C1', 'C1', 'C1', 'C1']"
      ]
     },
     "execution_count": 33,
     "metadata": {},
     "output_type": "execute_result"
    }
   ],
   "source": [
    "dendrogram['leaves_color_list'][0:10]"
   ]
  },
  {
   "cell_type": "code",
   "execution_count": 37,
   "id": "33cb2109-3704-485d-8ac2-4104604b9b9c",
   "metadata": {},
   "outputs": [
    {
     "data": {
      "text/plain": [
       "{'C1', 'C2', 'C3'}"
      ]
     },
     "execution_count": 37,
     "metadata": {},
     "output_type": "execute_result"
    }
   ],
   "source": [
    "set(dendrogram['leaves_color_list'])"
   ]
  },
  {
   "cell_type": "code",
   "execution_count": 71,
   "id": "17f29e07-c164-4804-9c87-5ca276b45505",
   "metadata": {},
   "outputs": [],
   "source": [
    "# list(dendrogram.items())"
   ]
  },
  {
   "cell_type": "code",
   "execution_count": 64,
   "id": "6b824e92-e924-471b-bfed-adf92494759b",
   "metadata": {},
   "outputs": [],
   "source": [
    "df_dendogram = pd.DataFrame(list(zip(dendrogram['icoord'],dendrogram['dcoord'],dendrogram['color_list'],dendrogram['ivl'],dendrogram['leaves'],dendrogram['leaves_color_list'])), columns=['icoord', 'dcoord', 'color_list', 'ivl', 'leaves', 'leaves_color_list'])"
   ]
  },
  {
   "cell_type": "code",
   "execution_count": 65,
   "id": "0c26f760-62e6-49cc-9410-430e46d6eb99",
   "metadata": {},
   "outputs": [
    {
     "data": {
      "text/plain": [
       "(199, 6)"
      ]
     },
     "execution_count": 65,
     "metadata": {},
     "output_type": "execute_result"
    }
   ],
   "source": [
    "df_dendogram.shape"
   ]
  },
  {
   "cell_type": "code",
   "execution_count": 96,
   "id": "5c0478cc-18c8-4b5c-88d7-13b305b42a72",
   "metadata": {},
   "outputs": [
    {
     "data": {
      "text/html": [
       "<div>\n",
       "<style scoped>\n",
       "    .dataframe tbody tr th:only-of-type {\n",
       "        vertical-align: middle;\n",
       "    }\n",
       "\n",
       "    .dataframe tbody tr th {\n",
       "        vertical-align: top;\n",
       "    }\n",
       "\n",
       "    .dataframe thead th {\n",
       "        text-align: right;\n",
       "    }\n",
       "</style>\n",
       "<table border=\"1\" class=\"dataframe\">\n",
       "  <thead>\n",
       "    <tr style=\"text-align: right;\">\n",
       "      <th></th>\n",
       "      <th>icoord</th>\n",
       "      <th>dcoord</th>\n",
       "      <th>color_list</th>\n",
       "      <th>ivl</th>\n",
       "      <th>leaves</th>\n",
       "      <th>leaves_color_list</th>\n",
       "    </tr>\n",
       "  </thead>\n",
       "  <tbody>\n",
       "    <tr>\n",
       "      <th>0</th>\n",
       "      <td>[15.0, 15.0, 25.0, 25.0]</td>\n",
       "      <td>[0.0, 1.4142135623730951, 1.4142135623730951, ...</td>\n",
       "      <td>C1</td>\n",
       "      <td>1</td>\n",
       "      <td>1</td>\n",
       "      <td>C1</td>\n",
       "    </tr>\n",
       "    <tr>\n",
       "      <th>1</th>\n",
       "      <td>[35.0, 35.0, 45.0, 45.0]</td>\n",
       "      <td>[0.0, 2.0, 2.0, 0.0]</td>\n",
       "      <td>C1</td>\n",
       "      <td>3</td>\n",
       "      <td>3</td>\n",
       "      <td>C1</td>\n",
       "    </tr>\n",
       "    <tr>\n",
       "      <th>2</th>\n",
       "      <td>[20.0, 20.0, 40.0, 40.0]</td>\n",
       "      <td>[1.4142135623730951, 5.385164807134504, 5.3851...</td>\n",
       "      <td>C1</td>\n",
       "      <td>5</td>\n",
       "      <td>5</td>\n",
       "      <td>C1</td>\n",
       "    </tr>\n",
       "    <tr>\n",
       "      <th>3</th>\n",
       "      <td>[5.0, 5.0, 30.0, 30.0]</td>\n",
       "      <td>[0.0, 6.276941930590087, 6.276941930590087, 5....</td>\n",
       "      <td>C1</td>\n",
       "      <td>13</td>\n",
       "      <td>13</td>\n",
       "      <td>C1</td>\n",
       "    </tr>\n",
       "    <tr>\n",
       "      <th>4</th>\n",
       "      <td>[55.0, 55.0, 65.0, 65.0]</td>\n",
       "      <td>[0.0, 3.605551275463989, 3.605551275463989, 0.0]</td>\n",
       "      <td>C1</td>\n",
       "      <td>15</td>\n",
       "      <td>15</td>\n",
       "      <td>C1</td>\n",
       "    </tr>\n",
       "  </tbody>\n",
       "</table>\n",
       "</div>"
      ],
      "text/plain": [
       "                     icoord  \\\n",
       "0  [15.0, 15.0, 25.0, 25.0]   \n",
       "1  [35.0, 35.0, 45.0, 45.0]   \n",
       "2  [20.0, 20.0, 40.0, 40.0]   \n",
       "3    [5.0, 5.0, 30.0, 30.0]   \n",
       "4  [55.0, 55.0, 65.0, 65.0]   \n",
       "\n",
       "                                              dcoord color_list ivl  leaves  \\\n",
       "0  [0.0, 1.4142135623730951, 1.4142135623730951, ...         C1   1       1   \n",
       "1                               [0.0, 2.0, 2.0, 0.0]         C1   3       3   \n",
       "2  [1.4142135623730951, 5.385164807134504, 5.3851...         C1   5       5   \n",
       "3  [0.0, 6.276941930590087, 6.276941930590087, 5....         C1  13      13   \n",
       "4   [0.0, 3.605551275463989, 3.605551275463989, 0.0]         C1  15      15   \n",
       "\n",
       "  leaves_color_list  \n",
       "0                C1  \n",
       "1                C1  \n",
       "2                C1  \n",
       "3                C1  \n",
       "4                C1  "
      ]
     },
     "execution_count": 96,
     "metadata": {},
     "output_type": "execute_result"
    }
   ],
   "source": [
    "df_dendogram.head()"
   ]
  },
  {
   "cell_type": "code",
   "execution_count": 72,
   "id": "3b902d0f-0d5f-438f-85ea-830908707370",
   "metadata": {},
   "outputs": [],
   "source": [
    "df_dendogram.to_csv('dendogram.csv')"
   ]
  },
  {
   "cell_type": "code",
   "execution_count": 81,
   "id": "e68312cf-f3c8-48ab-94c8-b7e3e2b3d42e",
   "metadata": {},
   "outputs": [
    {
     "data": {
      "image/png": "[encoded data removed]",
      "text/plain": [
       "<Figure size 1200x600 with 1 Axes>"
      ]
     },
     "metadata": {},
     "output_type": "display_data"
    }
   ],
   "source": [
    "plt.figure(figsize=(12,6))\n",
    "dendrogram = sch.dendrogram(sch.linkage(X, method='ward'))\n",
    "plt.title('Dendrogram')\n",
    "plt.xlabel('Customers')\n",
    "plt.ylabel('Euclidean distances')\n",
    "plt.show()"
   ]
  },
  {
   "cell_type": "markdown",
   "id": "3cda1662-9028-48c2-b28b-aed4718ca66b",
   "metadata": {
    "jp-MarkdownHeadingCollapsed": true
   },
   "source": [
    "# Fit Hierarchical Clustering Model with Training Dataset"
   ]
  },
  {
   "cell_type": "code",
   "execution_count": 83,
   "id": "b843e42f-686e-407f-801f-02dba0c4457f",
   "metadata": {},
   "outputs": [],
   "source": [
    "hc = AgglomerativeClustering(n_clusters=5, metric='euclidean', linkage='ward')\n",
    "y_hc = hc.fit_predict(X)"
   ]
  },
  {
   "cell_type": "code",
   "execution_count": 84,
   "id": "5ae0da69-13cb-42c3-a355-588115b15d8d",
   "metadata": {},
   "outputs": [
    {
     "data": {
      "text/plain": [
       "(200,)"
      ]
     },
     "execution_count": 84,
     "metadata": {},
     "output_type": "execute_result"
    }
   ],
   "source": [
    "y_hc.shape"
   ]
  },
  {
   "cell_type": "code",
   "execution_count": 85,
   "id": "eff11cd2-e75b-4525-8bc3-4c6319472d73",
   "metadata": {},
   "outputs": [
    {
     "name": "stdout",
     "output_type": "stream",
     "text": [
      "[4 3 4 3 4 3 4 3 4 3 4 3 4 3 4 3 4 3 4 3 4 3 4 3 4 3 4 3 4 3 4 3 4 3 4 3 4\n",
      " 3 4 3 4 3 4 1 4 1 1 1 1 1 1 1 1 1 1 1 1 1 1 1 1 1 1 1 1 1 1 1 1 1 1 1 1 1\n",
      " 1 1 1 1 1 1 1 1 1 1 1 1 1 1 1 1 1 1 1 1 1 1 1 1 1 1 1 1 1 1 1 1 1 1 1 1 1\n",
      " 1 1 1 1 1 1 1 1 1 1 1 1 2 1 2 1 2 0 2 0 2 1 2 0 2 0 2 0 2 0 2 1 2 0 2 1 2\n",
      " 0 2 0 2 0 2 0 2 0 2 0 2 1 2 0 2 0 2 0 2 0 2 0 2 0 2 0 2 0 2 0 2 0 2 0 2 0\n",
      " 2 0 2 0 2 0 2 0 2 0 2 0 2 0 2]\n"
     ]
    }
   ],
   "source": [
    "print( y_hc )"
   ]
  },
  {
   "cell_type": "code",
   "execution_count": 89,
   "id": "0fe4abc8-74ef-42d4-886c-6c0f48cc8a15",
   "metadata": {},
   "outputs": [
    {
     "data": {
      "image/png": "[encoded data removed]",
      "text/plain": [
       "<Figure size 640x480 with 1 Axes>"
      ]
     },
     "metadata": {},
     "output_type": "display_data"
    }
   ],
   "source": [
    "plt.scatter(X[y_hc == 0, 0], X[y_hc == 0, 1], s = 20, c = 'red', label = 'Cluster 1')\n",
    "plt.scatter(X[y_hc == 1, 0], X[y_hc == 1, 1], s = 20, c = 'blue', label = 'Cluster 2')\n",
    "plt.scatter(X[y_hc == 2, 0], X[y_hc == 2, 1], s = 20, c = 'green', label = 'Cluster 3')\n",
    "plt.scatter(X[y_hc == 3, 0], X[y_hc == 3, 1], s = 20, c = 'cyan', label = 'Cluster 4')\n",
    "plt.scatter(X[y_hc == 4, 0], X[y_hc == 4, 1], s = 20, c = 'magenta', label = 'Cluster 5')\n",
    "plt.title('Clusters of customers')\n",
    "plt.xlabel('Annual Income (k$)')\n",
    "plt.ylabel('Spending Score (1-100)')\n",
    "plt.legend()\n",
    "plt.show()"
   ]
  }
 ],
 "metadata": {
  "kernelspec": {
   "display_name": "Python 3 (ipykernel)",
   "language": "python",
   "name": "python3"
  },
  "language_info": {
   "codemirror_mode": {
    "name": "ipython",
    "version": 3
   },
   "file_extension": ".py",
   "mimetype": "text/x-python",
   "name": "python",
   "nbconvert_exporter": "python",
   "pygments_lexer": "ipython3",
   "version": "3.12.4"
  }
 },
 "nbformat": 4,
 "nbformat_minor": 5
}
